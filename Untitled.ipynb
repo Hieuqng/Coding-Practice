{
 "cells": [
  {
   "cell_type": "code",
   "execution_count": 1,
   "metadata": {},
   "outputs": [],
   "source": [
    "a = [3, 2, 2, 1, 0, 0, 0, 1, 2, 3]\n",
    "a1 = [a[i+1] - a[i] for i in range(len(a)-1)]"
   ]
  },
  {
   "cell_type": "code",
   "execution_count": 12,
   "metadata": {},
   "outputs": [
    {
     "data": {
      "text/plain": [
       "[-1, 0, -1, -1, 0, 0, 1, 1, 1]"
      ]
     },
     "execution_count": 12,
     "metadata": {},
     "output_type": "execute_result"
    }
   ],
   "source": [
    "a1"
   ]
  },
  {
   "cell_type": "code",
   "execution_count": null,
   "metadata": {},
   "outputs": [],
   "source": [
    "def is_valley(arr):\n",
    "    is_up = False\n",
    "    bottom = -1\n",
    "    for i in range(len(arr)):\n",
    "        if arr[i] <= 0:\n",
    "            is_up = False\n",
    "        else:\n",
    "            if i == len(arr) - 1:\n",
    "                return False\n",
    "            else:\n",
    "                bottom = i\n",
    "                is_up = True\n",
    "    \n",
    "    "
   ]
  }
 ],
 "metadata": {
  "kernelspec": {
   "display_name": "Python 3",
   "language": "python",
   "name": "python3"
  },
  "language_info": {
   "codemirror_mode": {
    "name": "ipython",
    "version": 3
   },
   "file_extension": ".py",
   "mimetype": "text/x-python",
   "name": "python",
   "nbconvert_exporter": "python",
   "pygments_lexer": "ipython3",
   "version": "3.6.7"
  }
 },
 "nbformat": 4,
 "nbformat_minor": 2
}
